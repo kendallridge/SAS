{
 "cells": [
  {
   "cell_type": "markdown",
   "metadata": {},
   "source": [
    "$${\\huge{Exercise}}$$"
   ]
  },
  {
   "cell_type": "markdown",
   "metadata": {},
   "source": [
    "# <font color=teal> Correlation within Iris data set attributes.\n",
    "   \n",
    "    \n",
    "<font size=4> We consider the [Iris data set from scikit learn](https://scikit-learn.org/stable/datasets/toy_dataset.html)\n"
   ]
  },
  {
   "cell_type": "code",
   "execution_count": 10,
   "metadata": {
    "ExecuteTime": {
     "end_time": "2023-01-18T17:29:25.372908Z",
     "start_time": "2023-01-18T17:29:23.529218Z"
    }
   },
   "outputs": [
    {
     "data": {
      "text/plain": [
       "['data',\n",
       " 'target',\n",
       " 'frame',\n",
       " 'target_names',\n",
       " 'DESCR',\n",
       " 'feature_names',\n",
       " 'filename',\n",
       " 'data_module']"
      ]
     },
     "execution_count": 10,
     "metadata": {},
     "output_type": "execute_result"
    }
   ],
   "source": [
    "from sklearn import datasets\n",
    "import pandas as pd\n",
    "\n",
    "iris = datasets.load_iris()\n",
    "list(iris.keys())"
   ]
  },
  {
   "cell_type": "code",
   "execution_count": 4,
   "metadata": {
    "ExecuteTime": {
     "end_time": "2023-01-18T17:30:26.919552Z",
     "start_time": "2023-01-18T17:30:26.905362Z"
    }
   },
   "outputs": [],
   "source": [
    "#print(iris.DESCR)"
   ]
  },
  {
   "cell_type": "markdown",
   "metadata": {
    "ExecuteTime": {
     "end_time": "2020-01-12T19:23:15.961540Z",
     "start_time": "2020-01-12T19:23:15.953546Z"
    }
   },
   "source": [
    "<font size=4 color =teal> __Change iris.data into a  dataframe using iris.feature_names as the columns label.__    "
   ]
  },
  {
   "cell_type": "code",
   "execution_count": 13,
   "metadata": {
    "ExecuteTime": {
     "end_time": "2023-01-18T17:32:40.774064Z",
     "start_time": "2023-01-18T17:32:40.729918Z"
    }
   },
   "outputs": [],
   "source": [
    "features=pd.DataFrame(iris.data, columns=iris.feature_names)"
   ]
  },
  {
   "cell_type": "markdown",
   "metadata": {},
   "source": [
    "<font size=4 color =teal> __Find the Correlation Matrix for the Data Frame and tell me what two features are most correlated__ "
   ]
  },
  {
   "cell_type": "code",
   "execution_count": 14,
   "metadata": {
    "ExecuteTime": {
     "end_time": "2020-01-14T16:55:47.199081Z",
     "start_time": "2020-01-14T16:55:47.183340Z"
    }
   },
   "outputs": [
    {
     "data": {
      "text/html": [
       "<div>\n",
       "<style scoped>\n",
       "    .dataframe tbody tr th:only-of-type {\n",
       "        vertical-align: middle;\n",
       "    }\n",
       "\n",
       "    .dataframe tbody tr th {\n",
       "        vertical-align: top;\n",
       "    }\n",
       "\n",
       "    .dataframe thead th {\n",
       "        text-align: right;\n",
       "    }\n",
       "</style>\n",
       "<table border=\"1\" class=\"dataframe\">\n",
       "  <thead>\n",
       "    <tr style=\"text-align: right;\">\n",
       "      <th></th>\n",
       "      <th>sepal length (cm)</th>\n",
       "      <th>sepal width (cm)</th>\n",
       "      <th>petal length (cm)</th>\n",
       "      <th>petal width (cm)</th>\n",
       "    </tr>\n",
       "  </thead>\n",
       "  <tbody>\n",
       "    <tr>\n",
       "      <th>sepal length (cm)</th>\n",
       "      <td>1.000000</td>\n",
       "      <td>-0.117570</td>\n",
       "      <td>0.871754</td>\n",
       "      <td>0.817941</td>\n",
       "    </tr>\n",
       "    <tr>\n",
       "      <th>sepal width (cm)</th>\n",
       "      <td>-0.117570</td>\n",
       "      <td>1.000000</td>\n",
       "      <td>-0.428440</td>\n",
       "      <td>-0.366126</td>\n",
       "    </tr>\n",
       "    <tr>\n",
       "      <th>petal length (cm)</th>\n",
       "      <td>0.871754</td>\n",
       "      <td>-0.428440</td>\n",
       "      <td>1.000000</td>\n",
       "      <td>0.962865</td>\n",
       "    </tr>\n",
       "    <tr>\n",
       "      <th>petal width (cm)</th>\n",
       "      <td>0.817941</td>\n",
       "      <td>-0.366126</td>\n",
       "      <td>0.962865</td>\n",
       "      <td>1.000000</td>\n",
       "    </tr>\n",
       "  </tbody>\n",
       "</table>\n",
       "</div>"
      ],
      "text/plain": [
       "                   sepal length (cm)  sepal width (cm)  petal length (cm)  \\\n",
       "sepal length (cm)           1.000000         -0.117570           0.871754   \n",
       "sepal width (cm)           -0.117570          1.000000          -0.428440   \n",
       "petal length (cm)           0.871754         -0.428440           1.000000   \n",
       "petal width (cm)            0.817941         -0.366126           0.962865   \n",
       "\n",
       "                   petal width (cm)  \n",
       "sepal length (cm)          0.817941  \n",
       "sepal width (cm)          -0.366126  \n",
       "petal length (cm)          0.962865  \n",
       "petal width (cm)           1.000000  "
      ]
     },
     "execution_count": 14,
     "metadata": {},
     "output_type": "execute_result"
    }
   ],
   "source": [
    "features.corr()"
   ]
  },
  {
   "cell_type": "markdown",
   "metadata": {},
   "source": [
    "<font size =4 color=lightgreen> __Answer:__ petal length and petal width are most correlated (0.963)"
   ]
  },
  {
   "cell_type": "markdown",
   "metadata": {
    "ExecuteTime": {
     "end_time": "2020-01-12T19:31:29.003445Z",
     "start_time": "2020-01-12T19:31:28.996589Z"
    }
   },
   "source": [
    "<font size=4 color =teal> __Use Scikit learn to do a linear regression for X=petal length and y= petal width.__ \n",
    "* Graph the line along with the data ( use l0=np.linspace(0,8, 100) to generate the points you predict on)\n",
    "* Print  the coefficients of the regression model\n",
    "    \n",
    "<font color =red> You may  have the most luck using the array iris.data.  Also you need to reshape from (150,) to (150,1) "
   ]
  },
  {
   "cell_type": "code",
   "execution_count": 15,
   "metadata": {
    "ExecuteTime": {
     "end_time": "2020-01-12T19:44:49.467553Z",
     "start_time": "2020-01-12T19:44:49.461579Z"
    }
   },
   "outputs": [],
   "source": [
    "import matplotlib.pyplot as plt\n",
    "import numpy as np\n",
    "from sklearn import linear_model\n",
    "from sklearn.preprocessing import PolynomialFeatures\n",
    "\n",
    "#renamed to reg just for ease of typing later on\n",
    "reg=linear_model.LinearRegression()"
   ]
  },
  {
   "cell_type": "code",
   "execution_count": 24,
   "metadata": {
    "ExecuteTime": {
     "end_time": "2020-01-12T20:00:42.511514Z",
     "start_time": "2020-01-12T20:00:42.506535Z"
    }
   },
   "outputs": [
    {
     "data": {
      "text/plain": [
       "(150, 1)"
      ]
     },
     "execution_count": 24,
     "metadata": {},
     "output_type": "execute_result"
    }
   ],
   "source": [
    "petal_len=iris.data[:,2].reshape(-1,1)      # 2 is column index for petal length\n",
    "petal_width=iris.data[:,3].reshape(-1,1)    # 3 is column index for petal width\n",
    "                            # ^ reshape data to make a 2D array\n",
    "\n",
    "petal_len.shape"
   ]
  },
  {
   "cell_type": "code",
   "execution_count": 25,
   "metadata": {
    "ExecuteTime": {
     "end_time": "2020-01-12T20:00:45.559287Z",
     "start_time": "2020-01-12T20:00:45.353935Z"
    }
   },
   "outputs": [
    {
     "name": "stdout",
     "output_type": "stream",
     "text": [
      "-0.36307552131902976\n",
      "0.4157554163524117\n"
     ]
    },
    {
     "data": {
      "image/png": "[encoded data removed]",
      "text/plain": [
       "<Figure size 640x480 with 1 Axes>"
      ]
     },
     "metadata": {},
     "output_type": "display_data"
    }
   ],
   "source": [
    "reg.fit(petal_len,petal_width) \n",
    "alpha=reg.intercept_[0]        # a > alpha\n",
    "beta=reg.coef_[0][0]           # b > beta\n",
    "l0=np.linspace(0, 8, 100)      # l0 > line 0 ?   \n",
    "                # ^ linspace needs to go as far as data points do\n",
    "\n",
    "plt.plot(l0, reg.predict(l0.reshape(-1,1)), \"r\")\n",
    "plt.scatter(petal_len,petal_width)\n",
    "print(alpha,beta,sep='\\n')"
   ]
  },
  {
   "cell_type": "markdown",
   "metadata": {},
   "source": [
    "<font size=4 color=teal>__Use this to predict what the   petal width will be if the petal length is 3__"
   ]
  },
  {
   "cell_type": "code",
   "execution_count": 26,
   "metadata": {
    "ExecuteTime": {
     "end_time": "2020-01-12T20:47:05.915192Z",
     "start_time": "2020-01-12T20:47:05.845230Z"
    }
   },
   "outputs": [
    {
     "data": {
      "text/plain": [
       "array([[0.88419073]])"
      ]
     },
     "execution_count": 26,
     "metadata": {},
     "output_type": "execute_result"
    }
   ],
   "source": [
    "reg.predict([[3]])"
   ]
  },
  {
   "cell_type": "markdown",
   "metadata": {},
   "source": [
    "<font size=4 color=teal>__What is the $R^2$?__ "
   ]
  },
  {
   "cell_type": "code",
   "execution_count": 27,
   "metadata": {},
   "outputs": [
    {
     "data": {
      "text/plain": [
       "0.9271098389904927"
      ]
     },
     "execution_count": 27,
     "metadata": {},
     "output_type": "execute_result"
    }
   ],
   "source": [
    "reg.score(petal_len,petal_width)"
   ]
  },
  {
   "cell_type": "markdown",
   "metadata": {},
   "source": [
    "<font size=4 color=teal>__Repeat for  a quadratic fit. Plot and compare.__"
   ]
  },
  {
   "cell_type": "code",
   "execution_count": 28,
   "metadata": {},
   "outputs": [
    {
     "name": "stdout",
     "output_type": "stream",
     "text": [
      "Quadratic fit 0.9271679557444837\n"
     ]
    },
    {
     "data": {
      "text/plain": [
       "(array([-0.38678103]), array([[ 0.43383349, -0.00256892]]))"
      ]
     },
     "execution_count": 28,
     "metadata": {},
     "output_type": "execute_result"
    }
   ],
   "source": [
    "poly_f=PolynomialFeatures(degree=2,include_bias=False)\n",
    "petal_len_poly=poly_f.fit_transform(petal_len)\n",
    "reg.fit(petal_len_poly,petal_width)\n",
    "print(\"Quadratic fit\",reg.score(petal_len_poly,petal_width))\n",
    "\n",
    "# a, b, c\n",
    "reg.intercept_,reg.coef_"
   ]
  },
  {
   "cell_type": "code",
   "execution_count": 29,
   "metadata": {},
   "outputs": [
    {
     "data": {
      "text/plain": [
       "<matplotlib.collections.PathCollection at 0x11ef88910>"
      ]
     },
     "execution_count": 29,
     "metadata": {},
     "output_type": "execute_result"
    },
    {
     "data": {
      "image/png": "[encoded data removed]",
      "text/plain": [
       "<Figure size 640x480 with 1 Axes>"
      ]
     },
     "metadata": {},
     "output_type": "display_data"
    }
   ],
   "source": [
    "l1=l0.reshape(-1,1)\n",
    "L1=poly_f.fit_transform(l1) \n",
    "plt.plot(l1, reg.predict(L1), \"r\")\n",
    "plt.scatter(petal_len,petal_width)"
   ]
  },
  {
   "cell_type": "markdown",
   "metadata": {},
   "source": [
    "<font size=4 color=teal>__Why does it look so similar to the linear fit?__ "
   ]
  },
  {
   "cell_type": "markdown",
   "metadata": {},
   "source": [
    "<font size =4 color=lightgreen> __Answer:__ C is really close to zero, $x^2$ isn't having much effect"
   ]
  },
  {
   "cell_type": "markdown",
   "metadata": {},
   "source": [
    "<font size=4 color=teal>__What about a polynomial of degree 4? Plot and compare.__  "
   ]
  },
  {
   "cell_type": "code",
   "execution_count": 30,
   "metadata": {
    "ExecuteTime": {
     "end_time": "2023-01-18T15:42:26.195668Z",
     "start_time": "2023-01-18T15:42:26.077577Z"
    }
   },
   "outputs": [
    {
     "name": "stdout",
     "output_type": "stream",
     "text": [
      "Quadratic fit 0.9373432006856651\n"
     ]
    },
    {
     "data": {
      "text/plain": [
       "(array([-0.46158868]),\n",
       " array([[ 0.82110549, -0.34324572,  0.08944371, -0.00714685]]))"
      ]
     },
     "execution_count": 30,
     "metadata": {},
     "output_type": "execute_result"
    }
   ],
   "source": [
    "poly_f=PolynomialFeatures(degree=4,include_bias=False)\n",
    "petal_len_poly=poly_f.fit_transform(petal_len)\n",
    "reg.fit(petal_len_poly,petal_width)\n",
    "print(\"Quadratic fit\",reg.score(petal_len_poly,petal_width))\n",
    "\n",
    "reg.intercept_,reg.coef_"
   ]
  },
  {
   "cell_type": "code",
   "execution_count": 31,
   "metadata": {},
   "outputs": [
    {
     "data": {
      "text/plain": [
       "<matplotlib.collections.PathCollection at 0x11ede3510>"
      ]
     },
     "execution_count": 31,
     "metadata": {},
     "output_type": "execute_result"
    },
    {
     "data": {
      "image/png": "[encoded data removed]",
      "text/plain": [
       "<Figure size 640x480 with 1 Axes>"
      ]
     },
     "metadata": {},
     "output_type": "display_data"
    }
   ],
   "source": [
    "l1=l0.reshape(-1,1)\n",
    "L1=poly_f.fit_transform(l1) \n",
    "plt.plot(l1, reg.predict(L1), \"r\")\n",
    "plt.scatter(petal_len,petal_width)"
   ]
  },
  {
   "cell_type": "markdown",
   "metadata": {},
   "source": [
    "<font size=4 color=teal>__Just looking at the graph do you like this better or worse?__  "
   ]
  },
  {
   "cell_type": "markdown",
   "metadata": {},
   "source": [
    "<font size=4 color =lightgreen> __Answer:__ The $R^2$ is better, but it looks like the model is overfitted. This means the model will be worse when applied to new data.\n",
    "\n",
    "If we withheld testing data, the $R^2$ would probably be worse for the training data."
   ]
  }
 ],
 "metadata": {
  "kernelspec": {
   "display_name": "Python 3 (ipykernel)",
   "language": "python",
   "name": "python3"
  },
  "language_info": {
   "codemirror_mode": {
    "name": "ipython",
    "version": 3
   },
   "file_extension": ".py",
   "mimetype": "text/x-python",
   "name": "python",
   "nbconvert_exporter": "python",
   "pygments_lexer": "ipython3",
   "version": "3.11.4"
  },
  "toc": {
   "base_numbering": 1,
   "nav_menu": {},
   "number_sections": true,
   "sideBar": true,
   "skip_h1_title": false,
   "title_cell": "Table of Contents",
   "title_sidebar": "Contents",
   "toc_cell": false,
   "toc_position": {},
   "toc_section_display": true,
   "toc_window_display": false
  },
  "varInspector": {
   "cols": {
    "lenName": 16,
    "lenType": 16,
    "lenVar": 40
   },
   "kernels_config": {
    "python": {
     "delete_cmd_postfix": "",
     "delete_cmd_prefix": "del ",
     "library": "var_list.py",
     "varRefreshCmd": "print(var_dic_list())"
    },
    "r": {
     "delete_cmd_postfix": ") ",
     "delete_cmd_prefix": "rm(",
     "library": "var_list.r",
     "varRefreshCmd": "cat(var_dic_list()) "
    }
   },
   "types_to_exclude": [
    "module",
    "function",
    "builtin_function_or_method",
    "instance",
    "_Feature"
   ],
   "window_display": false
  }
 },
 "nbformat": 4,
 "nbformat_minor": 2
}
